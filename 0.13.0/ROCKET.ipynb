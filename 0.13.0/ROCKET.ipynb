{
 "cells": [
  {
   "cell_type": "code",
   "execution_count": 1,
   "metadata": {},
   "outputs": [
    {
     "name": "stdout",
     "output_type": "stream",
     "text": [
      "pyts version: 0.13.0\n",
      "sklearn version: 1.2.2\n"
     ]
    }
   ],
   "source": [
    "import numpy as np\n",
    "from pyts.transformation import ROCKET\n",
    "from pyts.datasets import fetch_ucr_dataset\n",
    "from sklearn.linear_model import RidgeClassifierCV\n",
    "from sklearn.pipeline import make_pipeline\n",
    "from sklearn.preprocessing import Normalizer, StandardScaler\n",
    "\n",
    "\n",
    "import pyts; print(\"pyts version: {0}\".format(pyts.__version__))\n",
    "import sklearn; print(\"sklearn version: {0}\".format(sklearn.__version__))"
   ]
  },
  {
   "cell_type": "code",
   "execution_count": 2,
   "metadata": {},
   "outputs": [],
   "source": [
    "datasets = [\n",
    "    'Adiac',\n",
    "    'ECG200',\n",
    "    'GunPoint',\n",
    "    'MiddlePhalanxTW',\n",
    "    'Plane',\n",
    "    'SyntheticControl'\n",
    "]"
   ]
  },
  {
   "cell_type": "code",
   "execution_count": 3,
   "metadata": {},
   "outputs": [
    {
     "name": "stdout",
     "output_type": "stream",
     "text": [
      "Adiac\n",
      "-----\n",
      "Accuracy on the test set: 0.808\n",
      "\n",
      "ECG200\n",
      "------\n",
      "Accuracy on the test set: 0.850\n",
      "\n",
      "GunPoint\n",
      "--------\n",
      "Accuracy on the test set: 0.987\n",
      "\n",
      "MiddlePhalanxTW\n",
      "---------------\n",
      "Accuracy on the test set: 0.571\n",
      "\n",
      "Plane\n",
      "-----\n",
      "Accuracy on the test set: 1.000\n",
      "\n",
      "SyntheticControl\n",
      "----------------\n",
      "Accuracy on the test set: 0.983\n",
      "\n"
     ]
    }
   ],
   "source": [
    "alphas = 10 ** np.linspace(-3, 3, 10)\n",
    "\n",
    "for dataset in datasets:\n",
    "    print(dataset)\n",
    "    print('-' * len(dataset))\n",
    "    \n",
    "    X_train, X_test, y_train, y_test = fetch_ucr_dataset(dataset, return_X_y=True)\n",
    "    \n",
    "    pipeline = make_pipeline(\n",
    "        ROCKET(random_state=42),\n",
    "        StandardScaler(copy=False, with_std=False),\n",
    "        Normalizer(copy=False, norm='l2'),\n",
    "        RidgeClassifierCV(alphas=alphas)\n",
    "    )\n",
    "    accuracy = pipeline.fit(X_train, y_train).score(X_test, y_test)\n",
    "\n",
    "    print('Accuracy on the test set: {0:.3f}'.format(accuracy))\n",
    "    print()"
   ]
  }
 ],
 "metadata": {
  "kernelspec": {
   "display_name": "pyts",
   "language": "python",
   "name": "pyts"
  },
  "language_info": {
   "codemirror_mode": {
    "name": "ipython",
    "version": 3
   },
   "file_extension": ".py",
   "mimetype": "text/x-python",
   "name": "python",
   "nbconvert_exporter": "python",
   "pygments_lexer": "ipython3",
   "version": "3.9.16"
  }
 },
 "nbformat": 4,
 "nbformat_minor": 2
}
