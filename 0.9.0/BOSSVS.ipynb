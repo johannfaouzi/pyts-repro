{
 "cells": [
  {
   "cell_type": "markdown",
   "metadata": {},
   "source": [
    "# BOSSVS: Bag of SFA Symbols in Vector Space\n",
    "\n",
    "* Website: https://www2.informatik.hu-berlin.de/~schaefpa/bossVS/\n",
    "\n",
    "* Paper: https://www2.informatik.hu-berlin.de/~schaefpa/bossvs.pdf\n",
    "\n",
    "**Note: an Internet connection is required to download the datasets used in this benchmark.**"
   ]
  },
  {
   "cell_type": "code",
   "execution_count": 1,
   "metadata": {},
   "outputs": [
    {
     "name": "stdout",
     "output_type": "stream",
     "text": [
      "pyts: 0.9.0\n"
     ]
    }
   ],
   "source": [
    "import numpy as np\n",
    "import pyts\n",
    "from pyts.classification import BOSSVS\n",
    "from pyts.datasets import fetch_ucr_dataset\n",
    "from sklearn.ensemble import VotingClassifier\n",
    "\n",
    "\n",
    "print(\"pyts: {0}\".format(pyts.__version__))"
   ]
  },
  {
   "cell_type": "code",
   "execution_count": 2,
   "metadata": {},
   "outputs": [],
   "source": [
    "dataset_params = {\n",
    "    \n",
    "    'Adiac': {'word_size': 12,\n",
    "              'window_size': 80,\n",
    "              'norm_mean': True,\n",
    "              'drop_sum': True},\n",
    "    \n",
    "    'ECG200': {'word_size': 5,\n",
    "               'window_size': 40,\n",
    "               'norm_mean': False,\n",
    "               'drop_sum': False},\n",
    "    \n",
    "    'GunPoint': {'word_size': 14,\n",
    "                 'window_size': 40,\n",
    "                 'norm_mean': True,\n",
    "                 'drop_sum': True},\n",
    "\n",
    "    'MiddlePhalanxTW': {'word_size': 10,\n",
    "                        'window_size': 25,\n",
    "                        'norm_mean': False,\n",
    "                        'drop_sum': False},\n",
    "    \n",
    "    'Plane': {'word_size': 6,\n",
    "              'window_size': 10,\n",
    "              'norm_mean': False,\n",
    "              'drop_sum': False},\n",
    "    \n",
    "    'SyntheticControl': {'word_size': np.full(20, 6),\n",
    "                         'window_size': np.arange(18, 37),\n",
    "                         'norm_mean': np.full(20, False),\n",
    "                         'drop_sum': np.full(20, False)}\n",
    "\n",
    "}"
   ]
  },
  {
   "cell_type": "code",
   "execution_count": 3,
   "metadata": {},
   "outputs": [
    {
     "name": "stdout",
     "output_type": "stream",
     "text": [
      "Adiac\n",
      "-----\n",
      "Accuracy on the test set: 0.703\n",
      "\n",
      "ECG200\n",
      "------\n",
      "Accuracy on the test set: 0.860\n",
      "\n",
      "GunPoint\n",
      "--------\n",
      "Accuracy on the test set: 1.000\n",
      "\n",
      "MiddlePhalanxTW\n",
      "---------------\n",
      "Accuracy on the test set: 0.545\n",
      "\n",
      "Plane\n",
      "-----\n",
      "Accuracy on the test set: 1.000\n",
      "\n",
      "SyntheticControl\n",
      "----------------\n",
      "Accuracy on the test set: 0.980\n",
      "\n"
     ]
    }
   ],
   "source": [
    "for dataset, params in dataset_params.items():\n",
    "    print(dataset)\n",
    "    print('-' * len(dataset))\n",
    "    \n",
    "    X_train, X_test, y_train, y_test = fetch_ucr_dataset(dataset, return_X_y=True)\n",
    "    \n",
    "    # Truncate the input data containing padding values\n",
    "    if dataset == 'MiddlePhalanxTW':\n",
    "        X_train, X_test = X_train[:, :-29], X_test[:, :-29]\n",
    "\n",
    "    if isinstance(params['window_size'], np.ndarray):\n",
    "        dicts = [{key: value[i] for key, value in params.items()}\n",
    "                 for i in range(len(params['window_size']))]\n",
    "        bossvses = [BOSSVS(**param) for param in dicts]\n",
    "        clf = VotingClassifier([('bossvs_' + str(i), bossvs)\n",
    "                                 for i, bossvs in enumerate(bossvses)])\n",
    "    else:\n",
    "        clf = BOSSVS(**params)\n",
    "    accuracy = clf.fit(X_train, y_train).score(X_test, y_test)\n",
    "\n",
    "    print('Accuracy on the test set: {0:.3f}'.format(accuracy))\n",
    "    print()"
   ]
  }
 ],
 "metadata": {
  "kernelspec": {
   "display_name": "pyts-repro",
   "language": "python",
   "name": "pyts-repro"
  },
  "language_info": {
   "codemirror_mode": {
    "name": "ipython",
    "version": 3
   },
   "file_extension": ".py",
   "mimetype": "text/x-python",
   "name": "python",
   "nbconvert_exporter": "python",
   "pygments_lexer": "ipython3",
   "version": "3.7.5"
  }
 },
 "nbformat": 4,
 "nbformat_minor": 2
}
