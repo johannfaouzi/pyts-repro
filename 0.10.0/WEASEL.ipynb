{
 "cells": [
  {
   "cell_type": "markdown",
   "metadata": {},
   "source": [
    "# WEASEL: Word Extraction for time SEries cLassification\n",
    "\n",
    "* Website: https://www2.informatik.hu-berlin.de/~schaefpa/weasel/\n",
    "\n",
    "* Paper: https://www2.informatik.hu-berlin.de/~schaefpa/weasel.pdf\n",
    "\n",
    "**Note: an Internet connection is required to download the datasets used in this benchmark.**"
   ]
  },
  {
   "cell_type": "code",
   "execution_count": 1,
   "metadata": {},
   "outputs": [
    {
     "name": "stdout",
     "output_type": "stream",
     "text": [
      "pyts: 0.10.0\n"
     ]
    }
   ],
   "source": [
    "import numpy as np\n",
    "from pyts.transformation import WEASEL\n",
    "from pyts.datasets import fetch_ucr_dataset\n",
    "from sklearn.pipeline import Pipeline\n",
    "from sklearn.linear_model import LogisticRegression\n",
    "\n",
    "\n",
    "import pyts\n",
    "print(\"pyts: {0}\".format(pyts.__version__))"
   ]
  },
  {
   "cell_type": "code",
   "execution_count": 2,
   "metadata": {},
   "outputs": [],
   "source": [
    "clf = LogisticRegression(penalty='l2', C=1, fit_intercept=True,\n",
    "                         solver='liblinear', multi_class='ovr')\n",
    "\n",
    "dataset_params = {\n",
    "    'Adiac': {'word_size': 3, 'window_sizes': np.arange(4, 176)},\n",
    "    'ECG200': {'word_size': 2, 'window_sizes': np.arange(3, 95)},\n",
    "    'GunPoint': {'word_size': 4, 'window_sizes': np.arange(5, 149)},\n",
    "    'MiddlePhalanxTW': {'word_size': 2, 'window_sizes': np.arange(3, 50)},\n",
    "    'Plane': {'word_size': 6, 'window_sizes': np.arange(7, 140)},\n",
    "    'SyntheticControl': {'word_size': 2, 'window_sizes': np.arange(10, 59)}\n",
    "}"
   ]
  },
  {
   "cell_type": "code",
   "execution_count": 3,
   "metadata": {},
   "outputs": [
    {
     "name": "stdout",
     "output_type": "stream",
     "text": [
      "Adiac\n",
      "-----\n",
      "Accuracy on the test set: 0.788\n",
      "\n",
      "ECG200\n",
      "------\n",
      "Accuracy on the test set: 0.850\n",
      "\n",
      "GunPoint\n",
      "--------\n",
      "Accuracy on the test set: 0.960\n",
      "\n",
      "MiddlePhalanxTW\n",
      "---------------\n",
      "Accuracy on the test set: 0.558\n",
      "\n",
      "Plane\n",
      "-----\n",
      "Accuracy on the test set: 1.000\n",
      "\n",
      "SyntheticControl\n",
      "----------------\n",
      "Accuracy on the test set: 0.973\n",
      "\n"
     ]
    }
   ],
   "source": [
    "for dataset, params in dataset_params.items():\n",
    "    print(dataset)\n",
    "    print('-' * len(dataset))\n",
    "    \n",
    "    X_train, X_test, y_train, y_test = fetch_ucr_dataset(dataset, return_X_y=True)\n",
    "    \n",
    "    # Truncate the input data containing padding values\n",
    "    if dataset == 'MiddlePhalanxTW':\n",
    "        X_train, X_test = X_train[:, :-29], X_test[:, :-29]\n",
    "\n",
    "    weasel = WEASEL(**params)\n",
    "    pipeline = Pipeline([('weasel', weasel), ('clf', clf)])\n",
    "    accuracy = pipeline.fit(X_train, y_train).score(X_test, y_test)\n",
    "\n",
    "    print('Accuracy on the test set: {0:.3f}'.format(accuracy))\n",
    "    print()"
   ]
  }
 ],
 "metadata": {
  "kernelspec": {
   "display_name": "Python 3",
   "language": "python",
   "name": "python3"
  },
  "language_info": {
   "codemirror_mode": {
    "name": "ipython",
    "version": 3
   },
   "file_extension": ".py",
   "mimetype": "text/x-python",
   "name": "python",
   "nbconvert_exporter": "python",
   "pygments_lexer": "ipython3",
   "version": "3.7.3"
  }
 },
 "nbformat": 4,
 "nbformat_minor": 2
}
