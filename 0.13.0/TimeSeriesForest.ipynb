{
 "cells": [
  {
   "cell_type": "markdown",
   "metadata": {},
   "source": [
    "# TimeSeriesForest\n",
    "\n",
    "* Paper: https://arxiv.org/pdf/1302.2277.pdf\n",
    "\n",
    "**Note: an Internet connection is required to download the datasets used in this benchmark.**"
   ]
  },
  {
   "cell_type": "code",
   "execution_count": 1,
   "metadata": {},
   "outputs": [
    {
     "name": "stdout",
     "output_type": "stream",
     "text": [
      "pyts version: 0.13.0\n",
      "sklearn version: 1.2.2\n"
     ]
    }
   ],
   "source": [
    "import numpy as np\n",
    "from pyts.classification import TimeSeriesForest\n",
    "from pyts.datasets import fetch_ucr_dataset\n",
    "\n",
    "\n",
    "import pyts; print(\"pyts version: {0}\".format(pyts.__version__))\n",
    "import sklearn; print(\"sklearn version: {0}\".format(sklearn.__version__))"
   ]
  },
  {
   "cell_type": "code",
   "execution_count": 2,
   "metadata": {},
   "outputs": [],
   "source": [
    "dataset_params = {\n",
    "    'Adiac': {}, # 0.7072\n",
    "    'ECG200': {'n_windows': 0.5}, # 0.8682\n",
    "    'GunPoint': {'n_windows': 0.5}, # 0.9617\n",
    "    'MiddlePhalanxTW': {'n_windows': 2.}, # 0.5770\n",
    "    'Plane': {}, # 0.9941\n",
    "    'SyntheticControl': {}, # 0.9903\n",
    "}"
   ]
  },
  {
   "cell_type": "code",
   "execution_count": 3,
   "metadata": {},
   "outputs": [
    {
     "name": "stdout",
     "output_type": "stream",
     "text": [
      "Adiac\n",
      "-----\n",
      "Accuracy on the test set: 0.706\n",
      "\n",
      "ECG200\n",
      "------\n",
      "Accuracy on the test set: 0.880\n",
      "\n",
      "GunPoint\n",
      "--------\n",
      "Accuracy on the test set: 0.960\n",
      "\n",
      "MiddlePhalanxTW\n",
      "---------------\n",
      "Accuracy on the test set: 0.591\n",
      "\n",
      "Plane\n",
      "-----\n",
      "Accuracy on the test set: 1.000\n",
      "\n",
      "SyntheticControl\n",
      "----------------\n",
      "Accuracy on the test set: 0.987\n",
      "\n"
     ]
    }
   ],
   "source": [
    "from pyts.datasets import fetch_ucr_dataset\n",
    "\n",
    "\n",
    "for dataset, params in dataset_params.items():\n",
    "    print(dataset)\n",
    "    print('-' * len(dataset))\n",
    "\n",
    "    X_train, X_test, y_train, y_test = fetch_ucr_dataset(dataset, return_X_y=True)\n",
    "\n",
    "    clf = TimeSeriesForest(**params, random_state=42)\n",
    "    accuracy = clf.fit(X_train, y_train).score(X_test, y_test)\n",
    "\n",
    "    print('Accuracy on the test set: {0:.3f}'.format(accuracy))\n",
    "    print()"
   ]
  }
 ],
 "metadata": {
  "kernelspec": {
   "display_name": "pyts",
   "language": "python",
   "name": "pyts"
  },
  "language_info": {
   "codemirror_mode": {
    "name": "ipython",
    "version": 3
   },
   "file_extension": ".py",
   "mimetype": "text/x-python",
   "name": "python",
   "nbconvert_exporter": "python",
   "pygments_lexer": "ipython3",
   "version": "3.9.16"
  }
 },
 "nbformat": 4,
 "nbformat_minor": 4
}
