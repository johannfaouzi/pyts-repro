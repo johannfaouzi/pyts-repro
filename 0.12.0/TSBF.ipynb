{
 "cells": [
  {
   "cell_type": "markdown",
   "metadata": {},
   "source": [
    "# TSBF\n",
    "\n",
    "* Website: http://www.mustafabaydogan.com/a-bag-of-features-framework-to-classify-time-series-tsbf.html\n",
    "\n",
    "* Paper: https://ieeexplore.ieee.org/document/6497440\n",
    "\n",
    "**Note: an Internet connection is required to download the datasets used in this benchmark.**"
   ]
  },
  {
   "cell_type": "code",
   "execution_count": 1,
   "metadata": {},
   "outputs": [
    {
     "name": "stdout",
     "output_type": "stream",
     "text": [
      "pyts version: 0.12.0\n",
      "sklearn version: 0.23.2\n"
     ]
    }
   ],
   "source": [
    "import numpy as np\n",
    "from pyts.classification import TSBF\n",
    "from pyts.datasets import fetch_ucr_dataset\n",
    "\n",
    "\n",
    "import pyts; print(\"pyts version: {0}\".format(pyts.__version__))\n",
    "import sklearn; print(\"sklearn version: {0}\".format(sklearn.__version__))"
   ]
  },
  {
   "cell_type": "code",
   "execution_count": 2,
   "metadata": {},
   "outputs": [],
   "source": [
    "dataset_params = {\n",
    "    'Adiac': {'min_subsequence_size': 0.4, 'min_interval_size': 0.05, 'n_subsequences': 20}, \n",
    "    'ECG200': {'min_subsequence_size': 0.1, 'min_interval_size': 0.05},\n",
    "    'GunPoint': {},\n",
    "    'MiddlePhalanxTW': {'min_subsequence_size': 0.25, 'min_interval_size': 0.05},\n",
    "    'Plane': {'min_subsequence_size': 0.5, 'min_interval_size': 0.05},\n",
    "     'SyntheticControl': {'min_subsequence_size': 0.25, 'min_interval_size': 0.05},\n",
    "}"
   ]
  },
  {
   "cell_type": "code",
   "execution_count": 3,
   "metadata": {},
   "outputs": [
    {
     "name": "stdout",
     "output_type": "stream",
     "text": [
      "Adiac\n",
      "-----\n",
      "Accuracy on the test set: 0.703\n",
      "\n",
      "ECG200\n",
      "------\n",
      "Accuracy on the test set: 0.820\n",
      "\n",
      "GunPoint\n",
      "--------\n",
      "Accuracy on the test set: 0.967\n",
      "\n",
      "MiddlePhalanxTW\n",
      "---------------\n",
      "Accuracy on the test set: 0.558\n",
      "\n",
      "Plane\n",
      "-----\n",
      "Accuracy on the test set: 1.000\n",
      "\n",
      "SyntheticControl\n",
      "----------------\n",
      "Accuracy on the test set: 0.993\n",
      "\n"
     ]
    }
   ],
   "source": [
    "from pyts.datasets import fetch_ucr_dataset\n",
    "\n",
    "\n",
    "for dataset, params in dataset_params.items():\n",
    "    print(dataset)\n",
    "    print('-' * len(dataset))\n",
    "\n",
    "    X_train, X_test, y_train, y_test = fetch_ucr_dataset(dataset, return_X_y=True)\n",
    "\n",
    "    clf = TSBF(**params, random_state=42)\n",
    "    accuracy = clf.fit(X_train, y_train).score(X_test, y_test)\n",
    "\n",
    "    print('Accuracy on the test set: {0:.3f}'.format(accuracy))\n",
    "    print()"
   ]
  }
 ],
 "metadata": {
  "kernelspec": {
   "display_name": "Python 3",
   "language": "python",
   "name": "python3"
  },
  "language_info": {
   "codemirror_mode": {
    "name": "ipython",
    "version": 3
   },
   "file_extension": ".py",
   "mimetype": "text/x-python",
   "name": "python",
   "nbconvert_exporter": "python",
   "pygments_lexer": "ipython3",
   "version": "3.8.5"
  }
 },
 "nbformat": 4,
 "nbformat_minor": 4
}
