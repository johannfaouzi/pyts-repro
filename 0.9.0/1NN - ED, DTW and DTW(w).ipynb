{
 "cells": [
  {
   "cell_type": "markdown",
   "metadata": {},
   "source": [
    "# 1NN with ED, DTW and DTW(w)\n",
    "\n",
    "A 1NN classifier is used with several metrics:\n",
    "* Euclidean Distance (ED),\n",
    "* Dynamic Time Warping (DTW),\n",
    "* Dynamic Time Warping with Sakoe-Chiba band constraint (a.k.a. DTW with warping window) (DTW(w))\n",
    "\n",
    "Website of the UCR Time Series Classification Archive: https://www.cs.ucr.edu/%7Eeamonn/time_series_data_2018/\n",
    "\n",
    "Wikipedia page of Dynamic Time Warping: https://en.wikipedia.org/wiki/Dynamic_time_warping\n",
    "\n",
    "**Note: an Internet connection is required to download the datasets used in this benchmark.**"
   ]
  },
  {
   "cell_type": "code",
   "execution_count": 1,
   "metadata": {},
   "outputs": [
    {
     "name": "stdout",
     "output_type": "stream",
     "text": [
      "pyts: 0.9.0\n"
     ]
    }
   ],
   "source": [
    "import numpy as np\n",
    "import pyts\n",
    "from pyts.classification import KNeighborsClassifier\n",
    "from pyts.datasets import fetch_ucr_dataset\n",
    "\n",
    "\n",
    "print('pyts: {0}'.format(pyts.__version__))"
   ]
  },
  {
   "cell_type": "code",
   "execution_count": 2,
   "metadata": {},
   "outputs": [],
   "source": [
    "dataset_list = ['Adiac', 'ECG200', 'GunPoint', 'MiddlePhalanxTW', 'Plane', 'SyntheticControl']\n",
    "\n",
    "warping_window_list = [0.03, 0., 0., 0.03, 0.05, 0.06]"
   ]
  },
  {
   "cell_type": "code",
   "execution_count": 3,
   "metadata": {},
   "outputs": [
    {
     "name": "stdout",
     "output_type": "stream",
     "text": [
      "Adiac\n",
      "-----\n",
      "Accuracy with Euclidean Distance: 0.6113\n",
      "Accuracy with Dynamic Time Warping: 0.6036\n",
      "Accuracy with Dynamic Time Warping with a learned warping window: 0.6087\n",
      "\n",
      "ECG200\n",
      "------\n",
      "Accuracy with Euclidean Distance: 0.8800\n",
      "Accuracy with Dynamic Time Warping: 0.7700\n",
      "Accuracy with Dynamic Time Warping with a learned warping window: 0.8800\n",
      "\n",
      "GunPoint\n",
      "--------\n",
      "Accuracy with Euclidean Distance: 0.9133\n",
      "Accuracy with Dynamic Time Warping: 0.9067\n",
      "Accuracy with Dynamic Time Warping with a learned warping window: 0.9133\n",
      "\n",
      "MiddlePhalanxTW\n",
      "---------------\n",
      "Accuracy with Euclidean Distance: 0.5130\n",
      "Accuracy with Dynamic Time Warping: 0.5065\n",
      "Accuracy with Dynamic Time Warping with a learned warping window: 0.5065\n",
      "\n",
      "Plane\n",
      "-----\n",
      "Accuracy with Euclidean Distance: 0.9619\n",
      "Accuracy with Dynamic Time Warping: 1.0000\n",
      "Accuracy with Dynamic Time Warping with a learned warping window: 1.0000\n",
      "\n",
      "SyntheticControl\n",
      "----------------\n",
      "Accuracy with Euclidean Distance: 0.8800\n",
      "Accuracy with Dynamic Time Warping: 0.9933\n",
      "Accuracy with Dynamic Time Warping with a learned warping window: 0.9833\n",
      "\n"
     ]
    }
   ],
   "source": [
    "accuracy_ed_list = []\n",
    "accuracy_dtw_list = []\n",
    "accuracy_dtw_w_list = []\n",
    "\n",
    "for dataset, warping_window in zip(dataset_list, warping_window_list):\n",
    "    print(dataset)\n",
    "    print('-' * len(dataset))\n",
    "    \n",
    "    X_train, X_test, y_train, y_test = fetch_ucr_dataset(dataset, return_X_y=True)\n",
    "\n",
    "    clf_ed = KNeighborsClassifier(metric='euclidean')\n",
    "    clf_dtw = KNeighborsClassifier(metric='dtw')\n",
    "    clf_dtw_w = KNeighborsClassifier(metric='dtw_sakoechiba',\n",
    "                                     metric_params={'window_size': warping_window})\n",
    "\n",
    "    # Euclidean Distance\n",
    "    accuracy_ed = clf_ed.fit(X_train, y_train).score(X_test, y_test)\n",
    "    print(\"Accuracy with Euclidean Distance: {0:.4f}\".format(accuracy_ed))\n",
    "    accuracy_ed_list.append(accuracy_ed)\n",
    "    \n",
    "    # Dynamic Time Warping\n",
    "    accuracy_dtw = clf_dtw.fit(X_train, y_train).score(X_test, y_test)\n",
    "    print(\"Accuracy with Dynamic Time Warping: {0:.4f}\".format(accuracy_dtw))\n",
    "    accuracy_dtw_list.append(accuracy_dtw)\n",
    "    \n",
    "    # Dynamic Time Warping with a learned warping window\n",
    "    accuracy_dtw_w = clf_dtw_w.fit(X_train, y_train).score(X_test, y_test)\n",
    "    print(\"Accuracy with Dynamic Time Warping with a learned warping \"\n",
    "          \"window: {0:.4f}\".format(accuracy_dtw_w))\n",
    "    accuracy_dtw_w_list.append(accuracy_dtw_w)\n",
    "    \n",
    "    print()"
   ]
  }
 ],
 "metadata": {
  "kernelspec": {
   "display_name": "pyts-repro",
   "language": "python",
   "name": "pyts-repro"
  },
  "language_info": {
   "codemirror_mode": {
    "name": "ipython",
    "version": 3
   },
   "file_extension": ".py",
   "mimetype": "text/x-python",
   "name": "python",
   "nbconvert_exporter": "python",
   "pygments_lexer": "ipython3",
   "version": "3.7.5"
  }
 },
 "nbformat": 4,
 "nbformat_minor": 2
}
