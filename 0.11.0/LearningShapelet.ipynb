{
 "cells": [
  {
   "cell_type": "markdown",
   "metadata": {},
   "source": [
    "# Learning Shapelet\n",
    "\n",
    "* Paper: https://www.ismll.uni-hildesheim.de/pub/pdfs/grabocka2014e-kdd.pdf\n",
    "\n",
    "**Note: an Internet connection is required to download the datasets used in this benchmark.**"
   ]
  },
  {
   "cell_type": "code",
   "execution_count": 1,
   "metadata": {},
   "outputs": [
    {
     "name": "stdout",
     "output_type": "stream",
     "text": [
      "pyts: 0.11.0\n"
     ]
    }
   ],
   "source": [
    "import numpy as np\n",
    "from pyts.classification import LearningShapelets\n",
    "from pyts.datasets import fetch_ucr_dataset\n",
    "\n",
    "\n",
    "import pyts\n",
    "print(\"pyts: {0}\".format(pyts.__version__))"
   ]
  },
  {
   "cell_type": "code",
   "execution_count": 2,
   "metadata": {},
   "outputs": [],
   "source": [
    "dataset_params = {\n",
    "    'Adiac': {'n_shapelets_per_size': 0.3, 'min_shapelet_length': 0.1,\n",
    "              'learning_rate': 100.0, 'C': 1e7, 'tol': 1e-8},\n",
    "    'ECG200': {'n_shapelets_per_size': 0.3, 'min_shapelet_length': 0.15,\n",
    "               'learning_rate': 1.0, 'C': 10000},\n",
    "    'GunPoint': {'n_shapelets_per_size': 0.4, 'min_shapelet_length': 0.1,\n",
    "                 'learning_rate': 1.0, 'C': 100000},\n",
    "    'MiddlePhalanxTW': {'n_shapelets_per_size': 0.3, 'min_shapelet_length': 0.1,\n",
    "                        'learning_rate': 10.0, 'C': 10, 'multi_class': 'ovr'},\n",
    "    'Plane': {'n_shapelets_per_size': 0.3, 'min_shapelet_length': 0.05,\n",
    "              'learning_rate': 1.0, 'C': 1000},\n",
    "    'SyntheticControl': {'n_shapelets_per_size': 0.3, 'min_shapelet_length': 0.1,\n",
    "                         'learning_rate': 1.0, 'C': 1000},\n",
    "}"
   ]
  },
  {
   "cell_type": "code",
   "execution_count": 3,
   "metadata": {},
   "outputs": [
    {
     "name": "stdout",
     "output_type": "stream",
     "text": [
      "Adiac\n",
      "-----\n",
      "Accuracy on the test set: 0.527\n",
      "\n",
      "ECG200\n",
      "------\n",
      "Accuracy on the test set: 0.860\n",
      "\n",
      "GunPoint\n",
      "--------\n",
      "Accuracy on the test set: 0.987\n",
      "\n",
      "MiddlePhalanxTW\n",
      "---------------\n",
      "Accuracy on the test set: 0.552\n",
      "\n",
      "Plane\n",
      "-----\n",
      "Accuracy on the test set: 0.990\n",
      "\n",
      "SyntheticControl\n",
      "----------------\n",
      "Accuracy on the test set: 0.990\n",
      "\n"
     ]
    }
   ],
   "source": [
    "for dataset, params in dataset_params.items():\n",
    "    print(dataset)\n",
    "    print('-' * len(dataset))\n",
    "    \n",
    "    X_train, X_test, y_train, y_test = fetch_ucr_dataset(dataset, return_X_y=True)\n",
    "\n",
    "    clf = LearningShapelets(random_state=42, class_weight='balanced', **params)\n",
    "    accuracy = clf.fit(X_train, y_train).score(X_test, y_test)\n",
    "\n",
    "    print('Accuracy on the test set: {0:.3f}'.format(accuracy))\n",
    "    print()"
   ]
  }
 ],
 "metadata": {
  "kernelspec": {
   "display_name": "Python 3",
   "language": "python",
   "name": "python3"
  },
  "language_info": {
   "codemirror_mode": {
    "name": "ipython",
    "version": 3
   },
   "file_extension": ".py",
   "mimetype": "text/x-python",
   "name": "python",
   "nbconvert_exporter": "python",
   "pygments_lexer": "ipython3",
   "version": "3.7.3"
  }
 },
 "nbformat": 4,
 "nbformat_minor": 2
}
