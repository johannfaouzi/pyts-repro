{
 "cells": [
  {
   "cell_type": "code",
   "execution_count": 1,
   "metadata": {},
   "outputs": [
    {
     "name": "stdout",
     "output_type": "stream",
     "text": [
      "pyts: 0.11.0\n"
     ]
    }
   ],
   "source": [
    "import numpy as np\n",
    "from pyts.classification import SAXVSM\n",
    "from pyts.datasets import fetch_ucr_dataset\n",
    "\n",
    "# Ignore warnings raised by BagOfWords\n",
    "import warnings\n",
    "warnings.filterwarnings('ignore')\n",
    "\n",
    "import pyts\n",
    "print(\"pyts: {0}\".format(pyts.__version__))"
   ]
  },
  {
   "cell_type": "code",
   "execution_count": 2,
   "metadata": {},
   "outputs": [],
   "source": [
    "dataset_params = {\n",
    "    'Adiac': {'window_size': 64, 'word_size': 32},\n",
    "    'ECG200': {'window_size': 30, 'word_size': 10},\n",
    "    'GunPoint': {'window_size': 64, 'word_size': 12, 'n_bins': 5},\n",
    "    'MiddlePhalanxTW': {'window_size': 60, 'word_size': 31, 'n_bins': 6,\n",
    "                        'norm_std': False, 'use_idf': False, 'sublinear_tf': False},\n",
    "    'Plane': {'window_size': 80, 'word_size': 20},\n",
    "    'SyntheticControl': {'window_size': 20, 'word_size': 5},\n",
    "}"
   ]
  },
  {
   "cell_type": "code",
   "execution_count": 3,
   "metadata": {},
   "outputs": [
    {
     "name": "stdout",
     "output_type": "stream",
     "text": [
      "Adiac\n",
      "-----\n",
      "Accuracy on the test set: 0.458\n",
      "\n",
      "ECG200\n",
      "------\n",
      "Accuracy on the test set: 0.840\n",
      "\n",
      "GunPoint\n",
      "--------\n",
      "Accuracy on the test set: 0.993\n",
      "\n",
      "MiddlePhalanxTW\n",
      "---------------\n",
      "Accuracy on the test set: 0.545\n",
      "\n",
      "Plane\n",
      "-----\n",
      "Accuracy on the test set: 0.981\n",
      "\n",
      "SyntheticControl\n",
      "----------------\n",
      "Accuracy on the test set: 0.933\n",
      "\n"
     ]
    }
   ],
   "source": [
    "for dataset, params in dataset_params.items():\n",
    "    print(dataset)\n",
    "    print('-' * len(dataset))\n",
    "    \n",
    "    X_train, X_test, y_train, y_test = fetch_ucr_dataset(dataset, return_X_y=True)\n",
    "\n",
    "    clf = SAXVSM(**params, strategy='normal')\n",
    "    accuracy = clf.fit(X_train, y_train).score(X_test, y_test)\n",
    "\n",
    "    print('Accuracy on the test set: {0:.3f}'.format(accuracy))\n",
    "    print()"
   ]
  }
 ],
 "metadata": {
  "kernelspec": {
   "display_name": "Python 3",
   "language": "python",
   "name": "python3"
  },
  "language_info": {
   "codemirror_mode": {
    "name": "ipython",
    "version": 3
   },
   "file_extension": ".py",
   "mimetype": "text/x-python",
   "name": "python",
   "nbconvert_exporter": "python",
   "pygments_lexer": "ipython3",
   "version": "3.7.3"
  }
 },
 "nbformat": 4,
 "nbformat_minor": 2
}
