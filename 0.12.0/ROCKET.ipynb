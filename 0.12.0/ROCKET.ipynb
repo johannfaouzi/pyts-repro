{
 "cells": [
  {
   "cell_type": "code",
   "execution_count": 1,
   "metadata": {},
   "outputs": [
    {
     "name": "stdout",
     "output_type": "stream",
     "text": [
      "pyts version: 0.12.0\n",
      "sklearn version: 0.23.2\n"
     ]
    }
   ],
   "source": [
    "import numpy as np\n",
    "from pyts.transformation import ROCKET\n",
    "from pyts.datasets import fetch_ucr_dataset\n",
    "from sklearn.linear_model import RidgeClassifierCV\n",
    "from sklearn.pipeline import make_pipeline\n",
    "\n",
    "\n",
    "import pyts; print(\"pyts version: {0}\".format(pyts.__version__))\n",
    "import sklearn; print(\"sklearn version: {0}\".format(sklearn.__version__))"
   ]
  },
  {
   "cell_type": "code",
   "execution_count": 2,
   "metadata": {},
   "outputs": [],
   "source": [
    "datasets = [\n",
    "    'Adiac',\n",
    "    'ECG200',\n",
    "    'GunPoint',\n",
    "    'MiddlePhalanxTW',\n",
    "    'Plane',\n",
    "    'SyntheticControl'\n",
    "]"
   ]
  },
  {
   "cell_type": "code",
   "execution_count": 3,
   "metadata": {},
   "outputs": [
    {
     "name": "stdout",
     "output_type": "stream",
     "text": [
      "Adiac\n",
      "-----\n",
      "Accuracy on the test set: 0.785\n",
      "\n",
      "ECG200\n",
      "------\n",
      "Accuracy on the test set: 0.910\n",
      "\n",
      "GunPoint\n",
      "--------\n",
      "Accuracy on the test set: 1.000\n",
      "\n",
      "MiddlePhalanxTW\n",
      "---------------\n",
      "Accuracy on the test set: 0.565\n",
      "\n",
      "Plane\n",
      "-----\n",
      "Accuracy on the test set: 1.000\n",
      "\n",
      "SyntheticControl\n",
      "----------------\n",
      "Accuracy on the test set: 1.000\n",
      "\n"
     ]
    }
   ],
   "source": [
    "alphas = 10 ** np.linspace(-3, 3, 10)\n",
    "\n",
    "for dataset in datasets:\n",
    "    print(dataset)\n",
    "    print('-' * len(dataset))\n",
    "    \n",
    "    X_train, X_test, y_train, y_test = fetch_ucr_dataset(dataset, return_X_y=True)\n",
    "    \n",
    "    pipeline = make_pipeline(\n",
    "        ROCKET(random_state=42),\n",
    "        RidgeClassifierCV(alphas=alphas, normalize=True)\n",
    "    )\n",
    "    accuracy = pipeline.fit(X_train, y_train).score(X_test, y_test)\n",
    "\n",
    "    print('Accuracy on the test set: {0:.3f}'.format(accuracy))\n",
    "    print()"
   ]
  }
 ],
 "metadata": {
  "kernelspec": {
   "display_name": "Python 3",
   "language": "python",
   "name": "python3"
  },
  "language_info": {
   "codemirror_mode": {
    "name": "ipython",
    "version": 3
   },
   "file_extension": ".py",
   "mimetype": "text/x-python",
   "name": "python",
   "nbconvert_exporter": "python",
   "pygments_lexer": "ipython3",
   "version": "3.8.5"
  }
 },
 "nbformat": 4,
 "nbformat_minor": 2
}
