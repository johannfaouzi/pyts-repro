{
 "cells": [
  {
   "cell_type": "code",
   "execution_count": 1,
   "metadata": {},
   "outputs": [
    {
     "name": "stdout",
     "output_type": "stream",
     "text": [
      "pyts: 0.11.0\n"
     ]
    }
   ],
   "source": [
    "import numpy as np\n",
    "from pyts.transformation import BagOfPatterns\n",
    "from pyts.datasets import fetch_ucr_dataset\n",
    "from sklearn.neighbors import KNeighborsClassifier\n",
    "from sklearn.pipeline import make_pipeline\n",
    "\n",
    "# Ignore warnings raised by BagOfWords\n",
    "import warnings\n",
    "warnings.filterwarnings('ignore')\n",
    "\n",
    "import pyts\n",
    "print(\"pyts: {0}\".format(pyts.__version__))"
   ]
  },
  {
   "cell_type": "code",
   "execution_count": 2,
   "metadata": {},
   "outputs": [],
   "source": [
    "dataset_params = {\n",
    "    'Adiac': {'window_size': 32, 'word_size': 11, 'n_bins': 11},\n",
    "    'ECG200': {'window_size': 32, 'word_size': 8, 'n_bins': 4},\n",
    "    'GunPoint': {'window_size': 32, 'word_size': 4, 'n_bins': 4},\n",
    "    'MiddlePhalanxTW': {'window_size': 32, 'word_size': 12, 'n_bins': 6},\n",
    "    'Plane': {'window_size': 24, 'word_size': 4, 'n_bins': 4},\n",
    "    'SyntheticControl': {'window_size': 24, 'word_size': 4, 'n_bins': 3}\n",
    "}"
   ]
  },
  {
   "cell_type": "code",
   "execution_count": 3,
   "metadata": {},
   "outputs": [
    {
     "name": "stdout",
     "output_type": "stream",
     "text": [
      "Adiac\n",
      "-----\n",
      "Accuracy on the test set: 0.614\n",
      "\n",
      "ECG200\n",
      "------\n",
      "Accuracy on the test set: 0.840\n",
      "\n",
      "GunPoint\n",
      "--------\n",
      "Accuracy on the test set: 0.980\n",
      "\n",
      "MiddlePhalanxTW\n",
      "---------------\n",
      "Accuracy on the test set: 0.474\n",
      "\n",
      "Plane\n",
      "-----\n",
      "Accuracy on the test set: 1.000\n",
      "\n",
      "SyntheticControl\n",
      "----------------\n",
      "Accuracy on the test set: 0.953\n",
      "\n"
     ]
    }
   ],
   "source": [
    "for dataset, params in dataset_params.items():\n",
    "    print(dataset)\n",
    "    print('-' * len(dataset))\n",
    "\n",
    "    X_train, X_test, y_train, y_test = fetch_ucr_dataset(dataset, return_X_y=True)\n",
    "    \n",
    "    # Truncate the input data containing padding values\n",
    "    if dataset == 'MiddlePhalanxTW':\n",
    "        X_train, X_test = X_train[:, :-29], X_test[:, :-29]\n",
    "\n",
    "    pipeline = make_pipeline(\n",
    "        BagOfPatterns(**params, strategy='normal', numerosity_reduction=False),\n",
    "        KNeighborsClassifier(n_neighbors=1)\n",
    "    )\n",
    "    accuracy = pipeline.fit(X_train, y_train).score(X_test, y_test)\n",
    "\n",
    "    print('Accuracy on the test set: {0:.3f}'.format(accuracy))\n",
    "    print()"
   ]
  }
 ],
 "metadata": {
  "kernelspec": {
   "display_name": "Python 3",
   "language": "python",
   "name": "python3"
  },
  "language_info": {
   "codemirror_mode": {
    "name": "ipython",
    "version": 3
   },
   "file_extension": ".py",
   "mimetype": "text/x-python",
   "name": "python",
   "nbconvert_exporter": "python",
   "pygments_lexer": "ipython3",
   "version": "3.7.3"
  }
 },
 "nbformat": 4,
 "nbformat_minor": 2
}
