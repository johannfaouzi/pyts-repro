{
 "cells": [
  {
   "cell_type": "markdown",
   "metadata": {},
   "source": [
    "# BOSS: Bag-of-SFA Symbols\n",
    "\n",
    "* Website: https://www2.informatik.hu-berlin.de/~schaefpa/boss/\n",
    "\n",
    "* Paper: https://www2.informatik.hu-berlin.de/~schaefpa/boss.pdf\n",
    "\n",
    "**Note: an Internet connection is required to download the datasets used in this benchmark.**"
   ]
  },
  {
   "cell_type": "code",
   "execution_count": 1,
   "metadata": {},
   "outputs": [
    {
     "name": "stdout",
     "output_type": "stream",
     "text": [
      "pyts version: 0.13.0\n",
      "sklearn version: 1.2.2\n"
     ]
    }
   ],
   "source": [
    "import numpy as np\n",
    "from pyts.transformation import BOSS\n",
    "from pyts.classification import KNeighborsClassifier\n",
    "from pyts.datasets import fetch_ucr_dataset\n",
    "from sklearn.pipeline import Pipeline\n",
    "from sklearn.ensemble import VotingClassifier\n",
    "\n",
    "\n",
    "import pyts; print(\"pyts version: {0}\".format(pyts.__version__))\n",
    "import sklearn; print(\"sklearn version: {0}\".format(sklearn.__version__))"
   ]
  },
  {
   "cell_type": "code",
   "execution_count": 2,
   "metadata": {},
   "outputs": [],
   "source": [
    "knn = KNeighborsClassifier(n_neighbors=1, metric='boss')\n",
    "\n",
    "dataset_params = {\n",
    "    \n",
    "    'Adiac': {'word_size': np.tile(np.arange(10, 16, 2), 3),\n",
    "              'window_size': np.repeat(np.arange(60, 110, 20), 3),\n",
    "              'norm_mean': np.full(9, True),\n",
    "              'drop_sum': np.full(9, True)},\n",
    "    \n",
    "    'ECG200': {'word_size': 8,\n",
    "               'window_size': 40,\n",
    "               'norm_mean': False,\n",
    "               'drop_sum': False},\n",
    "    \n",
    "    'GunPoint': {'word_size': 8,\n",
    "                 'window_size': 40,\n",
    "                 'norm_mean': True,\n",
    "                 'drop_sum': True},\n",
    "    \n",
    "    'MiddlePhalanxTW': {'word_size': 10,\n",
    "                        'window_size': 30,\n",
    "                        'norm_mean': False,\n",
    "                        'drop_sum': False},\n",
    "    \n",
    "    'Plane': {'word_size': 6,\n",
    "              'window_size': 10,\n",
    "              'norm_mean': True,\n",
    "              'drop_sum': True},\n",
    "    \n",
    "    'SyntheticControl': {'word_size': np.full(20, 5),\n",
    "                         'window_size': np.arange(18, 37),\n",
    "                         'norm_mean': np.full(20, True),\n",
    "                         'drop_sum': np.full(20, True)}\n",
    "\n",
    "}"
   ]
  },
  {
   "cell_type": "code",
   "execution_count": 3,
   "metadata": {
    "scrolled": false
   },
   "outputs": [
    {
     "name": "stdout",
     "output_type": "stream",
     "text": [
      "Adiac\n",
      "-----\n",
      "Accuracy on the test set: 0.752\n",
      "\n",
      "ECG200\n",
      "------\n",
      "Accuracy on the test set: 0.870\n",
      "\n",
      "GunPoint\n",
      "--------\n",
      "Accuracy on the test set: 1.000\n",
      "\n",
      "MiddlePhalanxTW\n",
      "---------------\n",
      "Accuracy on the test set: 0.526\n",
      "\n",
      "Plane\n",
      "-----\n",
      "Accuracy on the test set: 1.000\n",
      "\n",
      "SyntheticControl\n",
      "----------------\n",
      "Accuracy on the test set: 0.963\n",
      "\n"
     ]
    }
   ],
   "source": [
    "for dataset, params in dataset_params.items():\n",
    "    print(dataset)\n",
    "    print('-' * len(dataset))\n",
    "    \n",
    "    X_train, X_test, y_train, y_test = fetch_ucr_dataset(dataset, return_X_y=True)\n",
    "\n",
    "    if isinstance(params['window_size'], np.ndarray):\n",
    "        dicts = [{key: value[i] for key, value in params.items()}\n",
    "                 for i in range(len(params['window_size']))]\n",
    "        bosses = [BOSS(**param, sparse=False) for param in dicts]\n",
    "        pipelines = [Pipeline([('boss', boss), ('knn', knn)])\n",
    "                     for boss in bosses]\n",
    "        clf = VotingClassifier([('pipeline_' + str(i), pipeline)\n",
    "                                 for i, pipeline in enumerate(pipelines)])\n",
    "    else:\n",
    "        boss = BOSS(**params, sparse=False)\n",
    "        clf = Pipeline([('boss', boss), ('knn', knn)])\n",
    "    accuracy = clf.fit(X_train, y_train).score(X_test, y_test)\n",
    "\n",
    "    print('Accuracy on the test set: {0:.3f}'.format(accuracy))\n",
    "    print()"
   ]
  }
 ],
 "metadata": {
  "kernelspec": {
   "display_name": "pyts",
   "language": "python",
   "name": "pyts"
  },
  "language_info": {
   "codemirror_mode": {
    "name": "ipython",
    "version": 3
   },
   "file_extension": ".py",
   "mimetype": "text/x-python",
   "name": "python",
   "nbconvert_exporter": "python",
   "pygments_lexer": "ipython3",
   "version": "3.9.16"
  }
 },
 "nbformat": 4,
 "nbformat_minor": 2
}
