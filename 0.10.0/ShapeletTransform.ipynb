{
 "cells": [
  {
   "cell_type": "markdown",
   "metadata": {},
   "source": [
    "# Shapelet Transform\n",
    "\n",
    "* Paper: https://archive.uea.ac.uk/~ajb/Papers/LinesKDD2012.pdf\n",
    "\n",
    "**Note: an Internet connection is required to download the datasets used in this benchmark.**"
   ]
  },
  {
   "cell_type": "code",
   "execution_count": 1,
   "metadata": {},
   "outputs": [
    {
     "name": "stdout",
     "output_type": "stream",
     "text": [
      "pyts: 0.10.0\n"
     ]
    }
   ],
   "source": [
    "import numpy as np\n",
    "from pyts.transformation import ShapeletTransform\n",
    "from pyts.datasets import fetch_ucr_dataset\n",
    "from sklearn.pipeline import Pipeline\n",
    "from sklearn.svm import LinearSVC\n",
    "\n",
    "\n",
    "import pyts\n",
    "print(\"pyts: {0}\".format(pyts.__version__))"
   ]
  },
  {
   "cell_type": "code",
   "execution_count": 2,
   "metadata": {},
   "outputs": [],
   "source": [
    "clf = LinearSVC(max_iter=int(1e5))\n",
    "\n",
    "dataset_params = {\n",
    "    'Adiac': {'window_sizes': np.arange(10, 171, 20)}, # YES\n",
    "    'ECG200': {'window_sizes': np.arange(20, 91, 5)}, # YES\n",
    "    'GunPoint': {'window_sizes': np.arange(10, 130, 3)}, # OKAY\n",
    "    'MiddlePhalanxTW': {'window_sizes': np.arange(3, 50, 20)}, # YES (need around 0.58)\n",
    "    'Plane': {'window_sizes': np.arange(3, 144, 20)}, # YES (need perfect)\n",
    "    'SyntheticControl': {'window_sizes': np.arange(3, 60, 10)} # YES(need 0.8733)\n",
    "}"
   ]
  },
  {
   "cell_type": "code",
   "execution_count": 3,
   "metadata": {},
   "outputs": [
    {
     "name": "stdout",
     "output_type": "stream",
     "text": [
      "Adiac\n",
      "-----\n",
      "Accuracy on the test set: 0.432\n",
      "\n",
      "ECG200\n",
      "------\n",
      "Accuracy on the test set: 0.880\n",
      "\n",
      "GunPoint\n",
      "--------\n",
      "Accuracy on the test set: 0.967\n",
      "\n",
      "MiddlePhalanxTW\n",
      "---------------\n",
      "Accuracy on the test set: 0.584\n",
      "\n",
      "Plane\n",
      "-----\n",
      "Accuracy on the test set: 1.000\n",
      "\n",
      "SyntheticControl\n",
      "----------------\n",
      "Accuracy on the test set: 0.937\n",
      "\n"
     ]
    }
   ],
   "source": [
    "for dataset, params in dataset_params.items():\n",
    "    print(dataset)\n",
    "    print('-' * len(dataset))\n",
    "    \n",
    "    X_train, X_test, y_train, y_test = fetch_ucr_dataset(dataset, return_X_y=True)\n",
    "    \n",
    "    # Truncate the input data containing padding values\n",
    "    if dataset == 'MiddlePhalanxTW':\n",
    "        X_train, X_test = X_train[:, :-29], X_test[:, :-29]\n",
    "\n",
    "    shapelet = ShapeletTransform(random_state=42, n_jobs=-1, **params)\n",
    "    pipeline = Pipeline([('shapelet', shapelet), ('clf', clf)])\n",
    "    accuracy = pipeline.fit(X_train, y_train).score(X_test, y_test)\n",
    "\n",
    "    print('Accuracy on the test set: {0:.3f}'.format(accuracy))\n",
    "    print()"
   ]
  }
 ],
 "metadata": {
  "kernelspec": {
   "display_name": "Python 3",
   "language": "python",
   "name": "python3"
  },
  "language_info": {
   "codemirror_mode": {
    "name": "ipython",
    "version": 3
   },
   "file_extension": ".py",
   "mimetype": "text/x-python",
   "name": "python",
   "nbconvert_exporter": "python",
   "pygments_lexer": "ipython3",
   "version": "3.7.3"
  }
 },
 "nbformat": 4,
 "nbformat_minor": 2
}
